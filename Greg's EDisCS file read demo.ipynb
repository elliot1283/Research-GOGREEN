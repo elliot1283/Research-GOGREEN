{
 "cells": [
  {
   "cell_type": "code",
<<<<<<< HEAD
   "execution_count": 2,
=======
   "execution_count": 3,
>>>>>>> ca78ad1f56203671905160d4570e98c7824931d9
   "metadata": {},
   "outputs": [
    {
     "name": "stdout",
     "output_type": "stream",
     "text": [
      "('reading in ', '/Users/elliot/Work/Galaxy Research/Research-GOGREEN/allclust.phot.17.Jun.2019.fits')\n",
      "Filename: /Users/elliot/Work/Galaxy Research/Research-GOGREEN/allclust.phot.17.Jun.2019.fits\n",
      "No.    Name      Ver    Type      Cards   Dimensions   Format\n",
      "  0  PRIMARY       1 PrimaryHDU      16   (6122,)   uint8   \n",
      "  1  /Users/grudnick/EDisCS/Analysis/Mastercat/allclust.phot.17.Jun.20...    1 BinTableHDU    260   60933R x 124C   [21A, E, E, E, D, D, D, D, D, D, D, D, D, D, E, D, D, E, D, D, E, D, D, E, D, D, D, D, D, D, D, D, D, D, E, D, D, E, D, E, D, D, D, I, D, D, D, D, D, D, D, D, D, D, D, D, D, D, D, D, D, D, I, E, E, E, D, E, E, D, E, E, D, E, E, D, E, E, D, E, E, D, E, E, D, E, E, D, E, E, D, E, E, 4A, 4A, I, E, D, E, D, D, D, D, D, I, E, E, E, E, E, D, D, E, D, E, E, E, 13A, 11A, 5A, E, E, D, D]   \n",
<<<<<<< HEAD
      "<astropy.io.fits.hdu.table.BinTableHDU object at 0x11b25f2d0>\n",
=======
      "<astropy.io.fits.hdu.table.BinTableHDU object at 0x1238cb8d0>\n",
>>>>>>> ca78ad1f56203671905160d4570e98c7824931d9
      "ColDefs(\n",
      "    name = 'idnew'; format = '21A'\n",
      "    name = 'lowz'; format = 'E'\n",
      "    name = 'bestz'; format = 'E'\n",
      "    name = 'highz'; format = 'E'\n",
      "    name = 'Palt'; format = 'D'\n",
      "    name = 'LUlow_zp'; format = 'D'\n",
      "    name = 'LUbest_zp'; format = 'D'\n",
      "    name = 'LUhigh_zp'; format = 'D'\n",
      "    name = 'LBlow_zp'; format = 'D'\n",
      "    name = 'LBbest_zp'; format = 'D'\n",
      "    name = 'LBhigh_zp'; format = 'D'\n",
      "    name = 'LVlow_zp'; format = 'D'\n",
      "    name = 'LVbest_zp'; format = 'D'\n",
      "    name = 'LVhigh_zp'; format = 'D'\n",
      "    name = 'UBlow_zp'; format = 'E'\n",
      "    name = 'UBbest_zp'; format = 'D'\n",
      "    name = 'UBhigh_zp'; format = 'D'\n",
      "    name = 'BVlow_zp'; format = 'E'\n",
      "    name = 'BVbest_zp'; format = 'D'\n",
      "    name = 'BVhigh_zp'; format = 'D'\n",
      "    name = 'UVlow_zp'; format = 'E'\n",
      "    name = 'UVbest_zp'; format = 'D'\n",
      "    name = 'UVhigh_zp'; format = 'D'\n",
      "    name = 'wmin'; format = 'E'\n",
      "    name = 'Pclust'; format = 'D'\n",
      "    name = 'LUlow_zclust'; format = 'D'\n",
      "    name = 'LUbest_zclust'; format = 'D'\n",
      "    name = 'LUhigh_zclust'; format = 'D'\n",
      "    name = 'LBlow_zclust'; format = 'D'\n",
      "    name = 'LBbest_zclust'; format = 'D'\n",
      "    name = 'LBhigh_zclust'; format = 'D'\n",
      "    name = 'LVlow_zclust'; format = 'D'\n",
      "    name = 'LVbest_zclust'; format = 'D'\n",
      "    name = 'LVhigh_zclust'; format = 'D'\n",
      "    name = 'UBlow_zclust'; format = 'E'\n",
      "    name = 'UBbest_zclust'; format = 'D'\n",
      "    name = 'UBhigh_zclust'; format = 'D'\n",
      "    name = 'BVlow_zclust'; format = 'E'\n",
      "    name = 'BVbest_zclust'; format = 'D'\n",
      "    name = 'BVhigh_zclust'; format = 'E'\n",
      "    name = 'UVlow_zclust'; format = 'D'\n",
      "    name = 'UVbest_zclust'; format = 'D'\n",
      "    name = 'UVhigh_zclust'; format = 'D'\n",
      "    name = 'Membflag'; format = 'I'\n",
      "    name = 'LJlow_zclust'; format = 'D'\n",
      "    name = 'LJbest_zclust'; format = 'D'\n",
      "    name = 'LJhigh_zclust'; format = 'D'\n",
      "    name = 'Lusdsslow_zclust'; format = 'D'\n",
      "    name = 'Lusdssbest_zclust'; format = 'D'\n",
      "    name = 'Lusdsshigh_zclust'; format = 'D'\n",
      "    name = 'Lgsdsslow_zclust'; format = 'D'\n",
      "    name = 'Lgsdssbest_zclust'; format = 'D'\n",
      "    name = 'Lgsdsshigh_zclust'; format = 'D'\n",
      "    name = 'Lrsdsslow_zclust'; format = 'D'\n",
      "    name = 'Lrsdssbest_zclust'; format = 'D'\n",
      "    name = 'Lrsdsshigh_zclust'; format = 'D'\n",
      "    name = 'Lisdsslow_zclust'; format = 'D'\n",
      "    name = 'Lisdssbest_zclust'; format = 'D'\n",
      "    name = 'Lisdsshigh_zclust'; format = 'D'\n",
      "    name = 'Lzsdsslow_zclust'; format = 'D'\n",
      "    name = 'Lzsdssbest_zclust'; format = 'D'\n",
      "    name = 'Lzsdsshigh_zclust'; format = 'D'\n",
      "    name = 'Starflag'; format = 'I'\n",
      "    name = 'x_corr'; format = 'E'\n",
      "    name = 'y_corr'; format = 'E'\n",
      "    name = 'LUlow_zs'; format = 'E'\n",
      "    name = 'LUbest_zs'; format = 'D'\n",
      "    name = 'LUhigh_zs'; format = 'E'\n",
      "    name = 'LBlow_zs'; format = 'E'\n",
      "    name = 'LBbest_zs'; format = 'D'\n",
      "    name = 'LBhigh_zs'; format = 'E'\n",
      "    name = 'LVlow_zs'; format = 'E'\n",
      "    name = 'LVbest_zs'; format = 'D'\n",
      "    name = 'LVhigh_zs'; format = 'E'\n",
      "    name = 'LJlow_zs'; format = 'E'\n",
      "    name = 'LJbest_zs'; format = 'D'\n",
      "    name = 'LJhigh_zs'; format = 'E'\n",
      "    name = 'Lusdsslow_zs'; format = 'E'\n",
      "    name = 'Lusdssbest_zs'; format = 'D'\n",
      "    name = 'Lusdsshigh_zs'; format = 'E'\n",
      "    name = 'Lgsdsslow_zs'; format = 'E'\n",
      "    name = 'Lgsdssbest_zs'; format = 'D'\n",
      "    name = 'Lgsdsshigh_zs'; format = 'E'\n",
      "    name = 'Lrsdsslow_zs'; format = 'E'\n",
      "    name = 'Lrsdssbest_zs'; format = 'D'\n",
      "    name = 'Lrsdsshigh_zs'; format = 'E'\n",
      "    name = 'Lisdsslow_zs'; format = 'E'\n",
      "    name = 'Lisdssbest_zs'; format = 'D'\n",
      "    name = 'Lisdsshigh_zs'; format = 'E'\n",
      "    name = 'Lzsdsslow_zs'; format = 'E'\n",
      "    name = 'Lzsdssbest_zs'; format = 'D'\n",
      "    name = 'Lzsdsshigh_zs'; format = 'E'\n",
      "    name = 'zspec'; format = 'E'\n",
      "    name = 'specmemb'; format = '4A'\n",
      "    name = 'spectype'; format = '4A'\n",
      "    name = 'qualz'; format = 'I'\n",
      "    name = 'LJlow_zp'; format = 'E'\n",
      "    name = 'LJbest_zp'; format = 'D'\n",
      "    name = 'LJhigh_zp'; format = 'E'\n",
      "    name = 'Itot'; format = 'D'\n",
      "    name = 'Vredcorr'; format = 'D'\n",
      "    name = 'Iredcorr'; format = 'D'\n",
      "    name = 'OIIEW'; format = 'D'\n",
      "    name = 'OIIEW_e'; format = 'D'\n",
      "    name = 'sfitqual'; format = 'I'\n",
      "    name = 'ellip'; format = 'E'\n",
      "    name = 'a_imageI'; format = 'E'\n",
      "    name = 'b_imageI'; format = 'E'\n",
      "    name = 'V'; format = 'E'\n",
      "    name = 'I'; format = 'E'\n",
      "    name = 'RA'; format = 'D'\n",
      "    name = 'DEC'; format = 'D'\n",
      "    name = 'mR'; format = 'E'\n",
      "    name = 'magcorr'; format = 'D'\n",
      "    name = 'lgMass'; format = 'E'\n",
      "    name = 'lgMass_zclust'; format = 'E'\n",
      "    name = 'lgMass_specz'; format = 'E'\n",
      "    name = 'clustfullname'; format = '13A'\n",
      "    name = 'clustname'; format = '11A'\n",
      "    name = 'bands'; format = '5A'\n",
      "    name = 'zclust'; format = 'E'\n",
      "    name = 'VI_RS_ZP'; format = 'E'\n",
      "    name = 'bcgdist_Mpc'; format = 'D'\n",
      "    name = 'bcgdist_R200'; format = 'D'\n",
      ")\n",
      "['EDCSNJ1018577-1208422' 'EDCSNJ1018576-1213396' 'EDCSNJ1018577-1209457'\n",
      " ... 'EDCSNJ1420035-1234417' 'EDCSNJ1420035-1237308'\n",
      " 'EDCSNJ1420035-1234034']\n"
     ]
    }
   ],
   "source": [
    "#this imports the astropy.io.fits module, which is a way to read in and write fits dat\n",
    "from astropy.io import fits\n",
    "\n",
    "#make a path to the file\n",
    "path = '/Users/elliot/Work/Galaxy Research/Research-GOGREEN/'\n",
    "\n",
    "#the file name\n",
    "filename = 'allclust.phot.17.Jun.2019.fits'\n",
    "\n",
    "#a string containing the full path to the file\n",
    "filepath = path + filename\n",
    "\n",
    "print('reading in ',filepath)\n",
    "\n",
    "#this reads in the fits file. The fits file has multiple \"extensions\"\n",
    "#read https://docs.astropy.org/en/stable/io/fits/ for more documentation\n",
    "filedat = fits.open(filepath)\n",
    "\n",
    "#this prints out info about what was read in.  It is a set of rows.  each row starts with an \n",
    "#integer for each extension of the FITS file and what is in it.  In this case, the 0th extension\n",
    "#is a header extension and the 1st extension contains the data.  It is followed by a list of the \n",
    "#different data types\n",
    "filedat.info()\n",
    "\n",
    "#This prints out the memory address of the first fits extension.  You usually don't need this\n",
    "print(filedat[1])\n",
    "#this makes a list of all of the colums of the first extension of the fits file\n",
    "cols = filedat[1].columns\n",
    "#this prints them out\n",
    "print(cols)\n",
    "\n",
    "#copy the first extension to a new variable that contains only the data\n",
    "tabdat = filedat[1].data\n",
    "\n",
    "#This prints the entries of the 'idnew' column of the table\n",
    "print(tabdat['idnew'])"
   ]
  },
  {
   "cell_type": "code",
   "execution_count": null,
   "metadata": {},
   "outputs": [],
   "source": [
    "\n"
   ]
  },
  {
   "cell_type": "code",
<<<<<<< HEAD
   "execution_count": 35,
=======
   "execution_count": 4,
>>>>>>> ca78ad1f56203671905160d4570e98c7824931d9
   "metadata": {
    "scrolled": true
   },
   "outputs": [
    {
     "name": "stdout",
     "output_type": "stream",
     "text": [
      "[0.52 1.82 1.3  ... 1.44 0.5  0.34]\n"
     ]
    },
    {
     "data": {
<<<<<<< HEAD
      "image/png": "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\n",
=======
      "text/plain": [
       "(array([2938.,  600.,  296.,  874., 1779.,  536., 1189.,  613.,  919.,\n",
       "        1159.,  514.,  453., 1124.,  727.,  723., 2009.,  802., 1002.,\n",
       "        3135., 1607., 1163., 3093., 1449., 1580., 1022., 2906., 2815.,\n",
       "         803., 1522.,  719.,  739., 1813.,  675.,  637., 1332.,  646.,\n",
       "         552., 1140.,  357.,  221.,  449.,  280.,  411.,  778.,  308.,\n",
       "         298.,  527.,  317.,  314.,  456.,  435.,  159.,  164.,  372.,\n",
       "         230.,  282.,  683.,  410.,  466.,  729.,  158.,  209.,  471.,\n",
       "         117.,  146.,  416.,  170.,  178.,  391.,  175.,  240.,  265.,\n",
       "         107.,  161., 1478.]),\n",
       " array([0.02  , 0.0464, 0.0728, 0.0992, 0.1256, 0.152 , 0.1784, 0.2048,\n",
       "        0.2312, 0.2576, 0.284 , 0.3104, 0.3368, 0.3632, 0.3896, 0.416 ,\n",
       "        0.4424, 0.4688, 0.4952, 0.5216, 0.548 , 0.5744, 0.6008, 0.6272,\n",
       "        0.6536, 0.68  , 0.7064, 0.7328, 0.7592, 0.7856, 0.812 , 0.8384,\n",
       "        0.8648, 0.8912, 0.9176, 0.944 , 0.9704, 0.9968, 1.0232, 1.0496,\n",
       "        1.076 , 1.1024, 1.1288, 1.1552, 1.1816, 1.208 , 1.2344, 1.2608,\n",
       "        1.2872, 1.3136, 1.34  , 1.3664, 1.3928, 1.4192, 1.4456, 1.472 ,\n",
       "        1.4984, 1.5248, 1.5512, 1.5776, 1.604 , 1.6304, 1.6568, 1.6832,\n",
       "        1.7096, 1.736 , 1.7624, 1.7888, 1.8152, 1.8416, 1.868 , 1.8944,\n",
       "        1.9208, 1.9472, 1.9736, 2.    ], dtype=float32),\n",
       " <a list of 75 Patch objects>)"
      ]
     },
     "execution_count": 4,
     "metadata": {},
     "output_type": "execute_result"
    },
    {
     "data": {
      "image/png": "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\n",
>>>>>>> ca78ad1f56203671905160d4570e98c7824931d9
      "text/plain": [
       "<Figure size 432x288 with 1 Axes>"
      ]
     },
     "metadata": {
      "needs_background": "light"
     },
     "output_type": "display_data"
    }
   ],
   "source": [
    "import matplotlib.pyplot as plt\n",
    "import numpy as np\n",
<<<<<<< HEAD
    "import scipy.stats as stats\n",
    "import pylab\n",
=======
>>>>>>> ca78ad1f56203671905160d4570e98c7824931d9
    "#this prints out all of the bestz values\n",
    "print(tabdat['bestz'])\n",
    "\n",
    "#this is an example of how to take one of the table values and perform a \n",
    "#mathematical operation on it to make a new variable.  You will need to do\n",
    "#this to compute the absolute V-band magnitude\n",
<<<<<<< HEAD
    "twicez = -2.5 * np.log10(tabdat['bestz'])\n",
=======
    "twicez = -2.5 * np.log(tabdat['bestz'])\n",
>>>>>>> ca78ad1f56203671905160d4570e98c7824931d9
    "\n",
    "#this gives the rest-frame V-band luminosity that you will need to compute\n",
    "#the rest-frame V-band magnitude as described in Trello\n",
    "tabdat['LVbest_zp']\n",
    "MVsol = 4.82\n",
    "MV = -2.5 * np.log10(tabdat['LVbest_zp'] * 1.e10) + MVsol\n",
    "\n",
    "\n",
    "\n",
    "#this makes a histogram of 100 bins of all the bestz values\n",
<<<<<<< HEAD
    "plt.hist(tabdat['bestz'],bins=75)\n",
    "pylab.xlabel('Z Value')\n",
    "pylab.ylabel('Number of Galaxies')\n",
    "plt.show()\n"
=======
    "plt.hist(tabdat['bestz'],bins=75)\n"
>>>>>>> ca78ad1f56203671905160d4570e98c7824931d9
   ]
  },
  {
   "cell_type": "code",
<<<<<<< HEAD
   "execution_count": 32,
   "metadata": {},
   "outputs": [
    {
     "data": {
      "image/png": "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\n",
      "text/plain": [
       "<Figure size 432x288 with 1 Axes>"
      ]
     },
     "metadata": {
      "needs_background": "light"
     },
     "output_type": "display_data"
    }
   ],
   "source": [
    "plt.hist(MV,bins=200)\n",
    "\n",
    "std = np.std(MV)\n",
    "mu = 1\n",
    "\n",
    "pylab.xlabel('MV (V-Band Absolute Magnitude)')\n",
    "pylab.ylabel('Number of Galaxies')\n",
    "plt.show()\n",
    "\n"
   ]
=======
   "execution_count": null,
   "metadata": {},
   "outputs": [],
   "source": []
>>>>>>> ca78ad1f56203671905160d4570e98c7824931d9
  },
  {
   "cell_type": "code",
   "execution_count": null,
   "metadata": {},
   "outputs": [],
   "source": []
  }
 ],
 "metadata": {
  "kernelspec": {
   "display_name": "Python 2",
   "language": "python",
   "name": "python2"
  },
  "language_info": {
   "codemirror_mode": {
    "name": "ipython",
    "version": 2
   },
   "file_extension": ".py",
   "mimetype": "text/x-python",
   "name": "python",
   "nbconvert_exporter": "python",
   "pygments_lexer": "ipython2",
   "version": "2.7.16"
  }
 },
 "nbformat": 4,
 "nbformat_minor": 2
}
