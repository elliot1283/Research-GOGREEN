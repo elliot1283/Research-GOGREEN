{
 "cells": [
  {
   "cell_type": "code",
   "execution_count": 15,
   "metadata": {},
   "outputs": [
    {
     "name": "stdout",
     "output_type": "stream",
     "text": [
      "reading in  /Users/grudnick/EDisCS/Analysis/Mastercat/allclust.phot.17.Jun.2019.fits\n",
      "Filename: /Users/grudnick/EDisCS/Analysis/Mastercat/allclust.phot.17.Jun.2019.fits\n",
      "No.    Name      Ver    Type      Cards   Dimensions   Format\n",
      "  0  PRIMARY       1 PrimaryHDU      16   (6122,)   uint8   \n",
      "  1  /Users/grudnick/EDisCS/Analysis/Mastercat/allclust.phot.17.Jun.20...    1 BinTableHDU    260   60933R x 124C   [21A, E, E, E, D, D, D, D, D, D, D, D, D, D, E, D, D, E, D, D, E, D, D, E, D, D, D, D, D, D, D, D, D, D, E, D, D, E, D, E, D, D, D, I, D, D, D, D, D, D, D, D, D, D, D, D, D, D, D, D, D, D, I, E, E, E, D, E, E, D, E, E, D, E, E, D, E, E, D, E, E, D, E, E, D, E, E, D, E, E, D, E, E, 4A, 4A, I, E, D, E, D, D, D, D, D, I, E, E, E, E, E, D, D, E, D, E, E, E, 13A, 11A, 5A, E, E, D, D]   \n",
      "['EDCSNJ1018577-1208422' 'EDCSNJ1018576-1213396' 'EDCSNJ1018577-1209457'\n",
      " ... 'EDCSNJ1420035-1234417' 'EDCSNJ1420035-1237308'\n",
      " 'EDCSNJ1420035-1234034']\n"
     ]
    }
   ],
   "source": [
    "#this imports the astropy.io.fits module, which is a way to read in and write fits dat\n",
    "from astropy.io import fits\n",
    "\n",
    "#make a path to the file\n",
    "path = '/Users/grudnick/EDisCS/Analysis/Mastercat/'\n",
    "\n",
    "#the file name\n",
    "filename = 'allclust.phot.17.Jun.2019.fits'\n",
    "\n",
    "#a string containing the full path to the file\n",
    "filepath = path + filename\n",
    "\n",
    "print('reading in ',filepath)\n",
    "\n",
    "#this reads in the fits file. The fits file has multiple \"extensions\"\n",
    "#read https://docs.astropy.org/en/stable/io/fits/ for more documentation\n",
    "filedat = fits.open(filepath)\n",
    "\n",
    "#this prints out info about what was read in\n",
    "filedat.info()\n",
    "\n",
    "#this prints out the first extension of the fits file (there is usually a [0] extension that contains some info\n",
    "#about the file and [1-...] extensions with the data\n",
    "filedat[1]\n",
    "#this makes a list of all of the colums of the first extension of the fits file\n",
    "cols = filedat[1].columns\n",
    "#this prints them out\n",
    "cols\n",
    "\n",
    "#copy the first extension to a new variable that contains only the data\n",
    "tabdat = filedat[1].data\n",
    "\n",
    "#This prints the entries of the 'idnew' column of the table\n",
    "print(tabdat['idnew'])"
   ]
  },
  {
   "cell_type": "code",
   "execution_count": null,
   "metadata": {},
   "outputs": [],
   "source": []
  },
  {
   "cell_type": "code",
   "execution_count": 2,
   "metadata": {},
   "outputs": [
    {
     "data": {
      "text/plain": [
       "[<astropy.io.fits.hdu.image.PrimaryHDU object at 0x7fb9e0549b10>, <astropy.io.fits.hdu.table.BinTableHDU object at 0x7fba102e9ed0>]"
      ]
     },
     "execution_count": 2,
     "metadata": {},
     "output_type": "execute_result"
    }
   ],
   "source": []
  },
  {
   "cell_type": "code",
   "execution_count": 5,
   "metadata": {},
   "outputs": [
    {
     "name": "stdout",
     "output_type": "stream",
     "text": [
      "<astropy.io.fits.hdu.table.BinTableHDU object at 0x7fba102e9ed0>\n"
     ]
    }
   ],
   "source": []
  }
 ],
 "metadata": {
  "kernelspec": {
   "display_name": "Python 3",
   "language": "python",
   "name": "python3"
  },
  "language_info": {
   "codemirror_mode": {
    "name": "ipython",
    "version": 3
   },
   "file_extension": ".py",
   "mimetype": "text/x-python",
   "name": "python",
   "nbconvert_exporter": "python",
   "pygments_lexer": "ipython3",
   "version": "3.7.4"
  }
 },
 "nbformat": 4,
 "nbformat_minor": 2
}
