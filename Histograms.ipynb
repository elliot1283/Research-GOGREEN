{
 "cells": [
  {
   "cell_type": "code",
   "execution_count": 1,
   "metadata": {},
   "outputs": [],
   "source": [
    "import matplotlib.pyplot as plt\n",
    "# if using a Jupyter notebook, include:\n",
    "%matplotlib inline\n",
    "\n",
    "commute_times = [23, 25, 40, 35, 36, 47, 33, 28, 48, 34,\n",
    "                 20, 37, 36, 23, 33, 36, 20, 27, 50, 34,\n",
    "                 47, 18, 28, 52, 21, 44, 34, 13, 40, 49]"
   ]
  },
  {
   "cell_type": "code",
   "execution_count": 24,
   "metadata": {},
   "outputs": [
    {
     "ename": "NameError",
     "evalue": "name 'commute_times' is not defined",
     "output_type": "error",
     "traceback": [
      "\u001b[0;31m---------------------------------------------------------------------------\u001b[0m",
      "\u001b[0;31mNameError\u001b[0m                                 Traceback (most recent call last)",
      "\u001b[0;32m<ipython-input-24-aaa211034b3e>\u001b[0m in \u001b[0;36m<module>\u001b[0;34m()\u001b[0m\n\u001b[0;32m----> 1\u001b[0;31m \u001b[0mplt\u001b[0m\u001b[0;34m.\u001b[0m\u001b[0mhist\u001b[0m\u001b[0;34m(\u001b[0m\u001b[0mcommute_times\u001b[0m\u001b[0;34m,\u001b[0m \u001b[0;36m5\u001b[0m\u001b[0;34m)\u001b[0m\u001b[0;34m\u001b[0m\u001b[0m\n\u001b[0m\u001b[1;32m      2\u001b[0m \u001b[0;34m\u001b[0m\u001b[0m\n\u001b[1;32m      3\u001b[0m \u001b[0;34m\u001b[0m\u001b[0m\n\u001b[1;32m      4\u001b[0m \u001b[0mplt\u001b[0m\u001b[0;34m.\u001b[0m\u001b[0mshow\u001b[0m\u001b[0;34m(\u001b[0m\u001b[0;34m)\u001b[0m\u001b[0;34m\u001b[0m\u001b[0m\n",
      "\u001b[0;31mNameError\u001b[0m: name 'commute_times' is not defined"
     ]
    }
   ],
   "source": [
    "plt.hist(commute_times, 5)\n",
    "\n",
    "\n",
    "plt.show()"
   ]
  },
  {
   "cell_type": "code",
   "execution_count": 4,
   "metadata": {},
   "outputs": [
    {
     "data": {
      "image/png": "[encoded data removed]",
      "text/plain": [
       "<Figure size 720x288 with 2 Axes>"
      ]
     },
     "metadata": {
      "needs_background": "light"
     },
     "output_type": "display_data"
    }
   ],
   "source": [
    "import numpy as np\n",
    "import matplotlib.pyplot as plt\n",
    "\n",
    "# generate some complicated data\n",
    "rng = np.random.RandomState(0)\n",
    "t = np.concatenate([-5 + 1.8 * rng.standard_cauchy(500),\n",
    "                    -4 + 0.8 * rng.standard_cauchy(2000),\n",
    "                    -1 + 0.3 * rng.standard_cauchy(500),\n",
    "                    2 + 0.8 * rng.standard_cauchy(1000),\n",
    "                    4 + 1.5 * rng.standard_cauchy(1000)])\n",
    "\n",
    "# truncate to a reasonable range\n",
    "t = t[(t > -15) & (t < 15)]\n",
    "\n",
    "# draw histograms with two different bin widths\n",
    "fig, ax = plt.subplots(1, 2, figsize=(10, 4))\n",
    "\n",
    "fig.subplots_adjust(left=0.1, right=0.95, bottom=0.15)\n",
    "for i, bins in enumerate([10,20]):\n",
    "    ax[i].hist(t, bins=bins, histtype='stepfilled', alpha=0.2, density=True)\n",
    "    ax[i].set_xlabel('t')\n",
    "    ax[i].set_ylabel('P(t)')\n",
    "    ax[i].set_title('plt.hist(t, bins={0})'.format(bins),\n",
    "                    fontdict=dict(family='monospace'))"
   ]
  },
  {
   "cell_type": "code",
   "execution_count": 5,
   "metadata": {},
   "outputs": [
    {
     "ename": "NameError",
     "evalue": "name 'filedat' is not defined",
     "output_type": "error",
     "traceback": [
      "\u001b[0;31m---------------------------------------------------------------------------\u001b[0m",
      "\u001b[0;31mNameError\u001b[0m                                 Traceback (most recent call last)",
      "\u001b[0;32m<ipython-input-5-fd2ba6e5b4e5>\u001b[0m in \u001b[0;36m<module>\u001b[0;34m()\u001b[0m\n\u001b[0;32m----> 1\u001b[0;31m \u001b[0m_\u001b[0m\u001b[0;34m=\u001b[0m\u001b[0mplt\u001b[0m\u001b[0;34m.\u001b[0m\u001b[0mhist\u001b[0m\u001b[0;34m(\u001b[0m\u001b[0mfiledat\u001b[0m\u001b[0;34m(\u001b[0m\u001b[0;34m'TacoTuesday'\u001b[0m\u001b[0;34m)\u001b[0m\u001b[0;34m)\u001b[0m\u001b[0;34m\u001b[0m\u001b[0m\n\u001b[0m",
      "\u001b[0;31mNameError\u001b[0m: name 'filedat' is not defined"
     ]
    }
   ],
   "source": [
    "_=plt.hist(filedat('TacoTuesday'))"
   ]
  },
  {
   "cell_type": "code",
   "execution_count": 2,
   "metadata": {},
   "outputs": [
    {
     "name": "stdout",
     "output_type": "stream",
     "text": [
      "/Users/elliot/Work/Galaxy\\ Research/Research-GOGREEN/Greg's\\ EDisCS\\ file\\ read\\ demo.ipynb\n"
     ]
    }
   ],
   "source": [
    "path = '/Users/elliot/Work/Galaxy\\ Research/Research-GOGREEN/'\n",
    "file = path + 'Greg\\'s\\ EDisCS\\ file\\ read\\ demo.ipynb'\n",
    "print(file)"
   ]
  },
  {
   "cell_type": "code",
   "execution_count": 8,
   "metadata": {},
   "outputs": [
    {
     "ename": "SyntaxError",
     "evalue": "invalid syntax (<ipython-input-8-c0fd2cd0a40c>, line 1)",
     "output_type": "error",
     "traceback": [
      "\u001b[0;36m  File \u001b[0;32m\"<ipython-input-8-c0fd2cd0a40c>\"\u001b[0;36m, line \u001b[0;32m1\u001b[0m\n\u001b[0;31m    path = 'http://localhost:8888/notebooks/Greg's%20EDisCS%20file%20read%20demo.ipynb'\u001b[0m\n\u001b[0m                                                 ^\u001b[0m\n\u001b[0;31mSyntaxError\u001b[0m\u001b[0;31m:\u001b[0m invalid syntax\n"
     ]
    }
   ],
   "source": [
    "path = 'http://localhost:8888/notebooks/Greg's%20EDisCS%20file%20read%20demo.ipynb'"
   ]
  },
  {
   "cell_type": "code",
   "execution_count": null,
   "metadata": {},
   "outputs": [],
   "source": []
  }
 ],
 "metadata": {
  "kernelspec": {
   "display_name": "Python 2",
   "language": "python",
   "name": "python2"
  },
  "language_info": {
   "codemirror_mode": {
    "name": "ipython",
    "version": 2
   },
   "file_extension": ".py",
   "mimetype": "text/x-python",
   "name": "python",
   "nbconvert_exporter": "python",
   "pygments_lexer": "ipython2",
   "version": "2.7.16"
  }
 },
 "nbformat": 4,
 "nbformat_minor": 2
}
